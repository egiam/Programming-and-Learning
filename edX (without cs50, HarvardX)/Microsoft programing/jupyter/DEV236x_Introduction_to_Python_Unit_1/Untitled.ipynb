{
  "cells": [
    {
      "metadata": {
        "trusted": true
      },
      "cell_type": "code",
      "source": "print(\"Hello, Me\")",
      "execution_count": 2,
      "outputs": [
        {
          "output_type": "stream",
          "text": "Hello, Me\n",
          "name": "stdout"
        }
      ]
    },
    {
      "metadata": {
        "trusted": true
      },
      "cell_type": "code",
      "source": "print(\"Hello, you\")",
      "execution_count": null,
      "outputs": []
    },
    {
      "metadata": {
        "trusted": true
      },
      "cell_type": "code",
      "source": "class Aplicacion:\n    \n    def __init__(self, x, y, z):\n        self.x=x\n        self.y=y\n        self.z=z\n        \n    def suma(self):\n        suma=self.x+self.y+self.z\n        print(f\"La suma es {suma}\")\n        \n    def resta(self):\n        resta=self.x-self.y-self.z\n        print(f\"La resta es {resta}\")\n        \n    def mult(self):\n        mult=self.x*self.y*self.z\n        print(f\"La multiplicacion es {mult}\")\n        \n    def div(self):\n        div=self.x/self.y/self.z\n        print(f\"La divicion es {div}\")\n        \ndef eleccion():\n    number=int(input(\"Elija un numero del 1 al 100: \"))\n    return number\n\nx=eleccion()\ny=eleccion()\nz=eleccion()\n\naplicacion1=Aplicacion(x, y, z)\nelegir=input(\"Quiere sumar, restar, multiplicar o dividir los numeros [S/R/M/D]: \")\nif elegir==\"S\":\n    aplicacion1.suma()\nelif elegir==\"R\":\n    aplicacion1.resta()\nelif elegir==\"M\":\n    aplicacion1.mult()\nelif elegir==\"D\":\n    aplicacion1.div()\n",
      "execution_count": null,
      "outputs": []
    },
    {
      "metadata": {
        "trusted": true
      },
      "cell_type": "code",
      "source": "",
      "execution_count": null,
      "outputs": []
    }
  ],
  "metadata": {
    "kernelspec": {
      "name": "python3",
      "display_name": "Python 3",
      "language": "python"
    },
    "language_info": {
      "mimetype": "text/x-python",
      "nbconvert_exporter": "python",
      "name": "python",
      "pygments_lexer": "ipython3",
      "version": "3.5.4",
      "file_extension": ".py",
      "codemirror_mode": {
        "version": 3,
        "name": "ipython"
      }
    }
  },
  "nbformat": 4,
  "nbformat_minor": 1
}